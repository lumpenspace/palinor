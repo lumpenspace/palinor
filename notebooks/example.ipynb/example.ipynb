{
 "cells": [
  {
   "cell_type": "code",
   "execution_count": 1,
   "metadata": {},
   "outputs": [
    {
     "name": "stdout",
     "output_type": "stream",
     "text": [
      "Cloning into 'pngr'...\n",
      "Username for 'https://github.com': "
     ]
    }
   ],
   "source": [
    "# Clone and set up the repository\n",
    "!git clone https://github.com/your-username/pngr.git\n",
    "%cd pngr\n",
    "\n",
    "# Install poetry and dependencies\n",
    "!curl -sSL https://install.python-poetry.org | python3 -\n",
    "!poetry install\n"
   ]
  },
  {
   "cell_type": "code",
   "execution_count": null,
   "metadata": {},
   "outputs": [],
   "source": [
    "# Import required libraries\n",
    "from transformers import AutoModelForCausalLM, AutoTokenizer\n",
    "from pngr import create_dataset\n",
    "from pngr.ControllableModel import ControllableModel\n",
    "from pngr.ControlVector import ControlVector\n",
    "\n",
    "# Load model (using a small model for example)\n",
    "model_name = \"meta-llama/Meta-Llama-3.2-8B-Instruct\"  # you can change this to your preferred model\n",
    "model = AutoModelForCausalLM.from_pretrained(model_name)\n",
    "tokenizer = AutoTokenizer.from_pretrained(model_name)\n",
    "\n",
    "# Create a controllable model wrapper\n",
    "controllable_model = ControllableModel(model, layer_ids=[-1, -2, -3])  # control last 3 layers\n",
    "\n",
    "# Create dataset with good/evil adjectives\n",
    "template_path = \"dataset_templates/alphapenger.yaml\"\n",
    "prompts = create_dataset.create_personality_prompts(\n",
    "    template_path, \n",
    "    a_adjective=\"good\", \n",
    "    b_adjective=\"evil\"\n",
    ")\n",
    "create_dataset.save_prompts(prompts, \"vector_dataset.jsonl\")\n"
   ]
  },
  {
   "cell_type": "code",
   "execution_count": null,
   "metadata": {},
   "outputs": [],
   "source": [
    "\n",
    "# Train the control vector\n",
    "control_vector = ControlVector.train(\n",
    "    model=controllable_model,\n",
    "    tokenizer=tokenizer,\n",
    "    dataset=prompts,\n",
    "    max_batch_size=4  # adjust based on your GPU memory\n",
    ")\n",
    "\n",
    "# Save the trained vector\n",
    "control_vector.to_file(\"good_evil_vector.pkl\")\n",
    "\n",
    "print(\"Control vector trained and saved!\")\n"
   ]
  },
  {
   "cell_type": "code",
   "execution_count": null,
   "metadata": {},
   "outputs": [],
   "source": [
    "\n",
    "# Optional: Test the vector\n",
    "test_prompt = \"Once upon a time\"\n",
    "inputs = tokenizer(test_prompt, return_tensors=\"pt\")\n",
    "\n",
    "# Generate with positive control (good)\n",
    "controllable_model.set_control(control_vector, coeff=1.0)\n",
    "good_output = tokenizer.decode(\n",
    "    controllable_model.generate(**inputs, max_new_tokens=50)[0]\n",
    ")\n",
    "\n",
    "# Generate with negative control (evil)\n",
    "controllable_model.set_control(control_vector, coeff=-1.0)\n",
    "evil_output = tokenizer.decode(\n",
    "    controllable_model.generate(**inputs, max_new_tokens=50)[0]\n",
    ")\n",
    "\n",
    "print(\"\\nTest outputs:\")\n",
    "print(\"Good:\", good_output)\n",
    "print(\"Evil:\", evil_output)"
   ]
  }
 ],
 "metadata": {
  "kernelspec": {
   "display_name": "llamda-fn-T-M8I_mI-py3.12",
   "language": "python",
   "name": "python3"
  },
  "language_info": {
   "codemirror_mode": {
    "name": "ipython",
    "version": 3
   },
   "file_extension": ".py",
   "mimetype": "text/x-python",
   "name": "python",
   "nbconvert_exporter": "python",
   "pygments_lexer": "ipython3",
   "version": "3.12.4"
  }
 },
 "nbformat": 4,
 "nbformat_minor": 2
}
