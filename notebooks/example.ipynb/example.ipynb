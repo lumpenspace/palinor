{
 "cells": [
  {
   "cell_type": "code",
   "execution_count": null,
   "metadata": {},
   "outputs": [],
   "source": [
    "# Clone and set up the repository\n",
    "!git clone https://github.com/lumpenspace/pngr.git\n",
    "%cd pngr\n",
    "\n",
    "# Install poetry and dependencies\n",
    "!curl -sSL https://install.python-poetry.org | python3 -\n",
    "!poetry install\n"
   ]
  },
  {
   "cell_type": "code",
   "execution_count": null,
   "metadata": {},
   "outputs": [],
   "source": [
    "# Import required libraries\n",
    "import torch\n",
    "from transformers import AutoModelForCausalLM, AutoTokenizer\n",
    "from pngr import create_dataset\n",
    "from pngr.ControllableModel import ControllableModel\n",
    "from pngr.ControlVector import ControlVector\n",
    "\n",
    "# Check CUDA availability\n",
    "print(f\"PyTorch version: {torch.__version__}\")\n",
    "print(f\"CUDA available: {torch.cuda.is_available()}\")\n",
    "if torch.cuda.is_available():\n",
    "    print(f\"CUDA device: {torch.cuda.get_device_name(0)}\")\n",
    "    print(f\"CUDA version: {torch.version.cuda}\")\n",
    "\n",
    "# Set device\n",
    "device = torch.device(\"cuda\" if torch.cuda.is_available() else \"cpu\")\n",
    "print(f\"Using device: {device}\")\n",
    "\n",
    "# Load model (using a smaller model that's publicly available)\n",
    "model_name = \"facebook/opt-125m\"  # Changed from Llama which requires auth\n",
    "model = AutoModelForCausalLM.from_pretrained(model_name).to(device)\n",
    "tokenizer = AutoTokenizer.from_pretrained(model_name)\n",
    "\n",
    "# Create a controllable model wrapper\n",
    "controllable_model = ControllableModel(model, layer_ids=[-1, -2, -3])\n",
    "# Create dataset with good/evil adjectives\n",
    "template_path = \"dataset_templates/alphapenger.yaml\"\n",
    "prompts = create_dataset.create_personality_prompts(\n",
    "    template_path, a_adjective=\"good\", b_adjective=\"evil\"\n",
    ")\n",
    "create_dataset.save_prompts(prompts, \"vector_dataset.jsonl\")"
   ]
  },
  {
   "cell_type": "code",
   "execution_count": null,
   "metadata": {},
   "outputs": [],
   "source": [
    "\n",
    "# Train the control vector\n",
    "control_vector = ControlVector.train(\n",
    "    model=controllable_model,\n",
    "    tokenizer=tokenizer,\n",
    "    dataset=prompts,\n",
    "    max_batch_size=4  # adjust based on your GPU memory\n",
    ")\n",
    "\n",
    "# Save the trained vector\n",
    "control_vector.to_file(\"good_evil_vector.pkl\")\n",
    "\n",
    "print(\"Control vector trained and saved!\")\n"
   ]
  },
  {
   "cell_type": "code",
   "execution_count": null,
   "metadata": {},
   "outputs": [],
   "source": [
    "\n",
    "# Optional: Test the vector\n",
    "test_prompt = \"Once upon a time\"\n",
    "inputs = tokenizer(test_prompt, return_tensors=\"pt\")\n",
    "\n",
    "# Generate with positive control (good)\n",
    "controllable_model.set_control(control_vector, coeff=1.0)\n",
    "good_output = tokenizer.decode(\n",
    "    controllable_model.generate(**inputs, max_new_tokens=50)[0]\n",
    ")\n",
    "\n",
    "# Generate with negative control (evil)\n",
    "controllable_model.set_control(control_vector, coeff=-1.0)\n",
    "evil_output = tokenizer.decode(\n",
    "    controllable_model.generate(**inputs, max_new_tokens=50)[0]\n",
    ")\n",
    "\n",
    "print(\"\\nTest outputs:\")\n",
    "print(\"Good:\", good_output)\n",
    "print(\"Evil:\", evil_output)"
   ]
  }
 ],
 "metadata": {
  "kernelspec": {
   "display_name": "llamda-fn-T-M8I_mI-py3.12",
   "language": "python",
   "name": "python3"
  },
  "language_info": {
   "codemirror_mode": {
    "name": "ipython",
    "version": 3
   },
   "file_extension": ".py",
   "mimetype": "text/x-python",
   "name": "python",
   "nbconvert_exporter": "python",
   "pygments_lexer": "ipython3",
   "version": "3.12.4"
  }
 },
 "nbformat": 4,
 "nbformat_minor": 2
}
